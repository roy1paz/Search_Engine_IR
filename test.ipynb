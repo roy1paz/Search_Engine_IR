{
  "nbformat": 4,
  "nbformat_minor": 0,
  "metadata": {
    "colab": {
      "provenance": []
    },
    "kernelspec": {
      "name": "python3",
      "display_name": "Python 3"
    },
    "language_info": {
      "name": "python"
    }
  },
  "cells": [
    {
      "cell_type": "code",
      "source": [
        "# !pip install gcsfs"
      ],
      "metadata": {
        "id": "1Y_3Ul9UpagU"
      },
      "execution_count": null,
      "outputs": []
    },
    {
      "cell_type": "code",
      "source": [
        "from google.colab import auth\n",
        "import gcsfs\n",
        "import numpy as np\n",
        "auth.authenticate_user()\n"
      ],
      "metadata": {
        "id": "hxSOL51-BEUx"
      },
      "execution_count": 2,
      "outputs": []
    },
    {
      "cell_type": "code",
      "source": [
        "import json\n",
        "import requests\n",
        "\n",
        "# Opening JSON file\n",
        "with open('new_train.json') as json_file:\n",
        "    queries = json.load(json_file)"
      ],
      "metadata": {
        "id": "4Em4lUPJtXKK"
      },
      "execution_count": 3,
      "outputs": []
    },
    {
      "cell_type": "code",
      "source": [
        "def average_precision(true_list, predicted_list, k=40):\n",
        "    true_set = frozenset(true_list)\n",
        "    predicted_list = predicted_list[:k]\n",
        "    precisions = []\n",
        "    for i,doc_id in enumerate(predicted_list):        \n",
        "        if doc_id in true_set:\n",
        "            prec = (len(precisions)+1) / (i+1)            \n",
        "            precisions.append(prec)\n",
        "    if len(precisions) == 0:\n",
        "        return 0.0\n",
        "    return round(sum(precisions)/len(precisions),3)"
      ],
      "metadata": {
        "id": "yrzb3pVms-mv"
      },
      "execution_count": 4,
      "outputs": []
    },
    {
      "cell_type": "code",
      "source": [
        "import requests\n",
        "from time import time\n",
        "# place the domain you got from ngrok or GCP IP below. \n",
        "url = 'http://34.170.170.139:8080'\n",
        "\n",
        "qs_res = []\n",
        "for q, true_wids in queries.items():\n",
        "  duration, ap = None, None\n",
        "  t_start = time()\n",
        "  try:\n",
        "    res = requests.get(url + '/search', {'query': q})\n",
        "    duration = time() - t_start\n",
        "    if res.status_code == 200:\n",
        "      pred_wids, _ = zip(*res.json())\n",
        "      ap = average_precision(true_wids, pred_wids)\n",
        "  except:\n",
        "    pass\n",
        "  \n",
        "  qs_res.append((q, duration, ap))"
      ],
      "metadata": {
        "id": "46IkQ24stCXE"
      },
      "execution_count": null,
      "outputs": []
    },
    {
      "cell_type": "code",
      "source": [
        "score = []\n",
        "time = []\n",
        "for i in qs_res:\n",
        "  if i[2]!=None:\n",
        "    score.append(i[2])\n",
        "    time.append(i[1])\n",
        "print(f\"Average body score: {sum(score)/len(score)}\")\n",
        "print(f\"Average body time: {sum(time)/len(time)}\")\n",
        "qs_res\n"
      ],
      "metadata": {
        "id": "kggsY61mMLhs"
      },
      "execution_count": null,
      "outputs": []
    }
  ]
}